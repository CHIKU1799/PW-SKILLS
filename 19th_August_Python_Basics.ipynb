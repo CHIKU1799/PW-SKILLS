{
 "cells": [
  {
   "cell_type": "code",
   "execution_count": 5,
   "id": "fa16da2c-2d28-427a-a940-4a7c302a4c55",
   "metadata": {},
   "outputs": [
    {
     "name": "stdout",
     "output_type": "stream",
     "text": [
      "The value of x is: 11\n",
      "The value of y is: 10\n"
     ]
    }
   ],
   "source": [
    "#TOPIC 1 VARIABLES\n",
    "#Question 1 Declare two variables, `x` and `y`, and assign them integer values. Swap the values of these variables without using any temporary variable.//\n",
    "\n",
    "x=10 #We have provided int values to both x and y\n",
    "y=11\n",
    "\n",
    "x,y=y,x # here we have swapped the values of variables x and y. Initially the value which x possessed is transfered to y and vice versa\n",
    "\n",
    "print(\"The value of x is:\",x)\n",
    "print(\"The value of y is:\",y)\n"
   ]
  },
  {
   "cell_type": "code",
   "execution_count": 9,
   "id": "47edf19b-ada2-4da9-a4a9-beb62765492a",
   "metadata": {},
   "outputs": [
    {
     "name": "stdin",
     "output_type": "stream",
     "text": [
      "Enter the length of rectangle:  11\n",
      "Enter the breadth of rectangle:  2\n"
     ]
    },
    {
     "name": "stdout",
     "output_type": "stream",
     "text": [
      "The area of the rectangle is : 22\n"
     ]
    }
   ],
   "source": [
    "#Create a program that calculates the area of a rectangle. Take the length and width as inputs from the user and store them in variables. Calculate and display the area.\n",
    "x=int(input(\"Enter the length of rectangle: \"))\n",
    "y=int(input(\"Enter the breadth of rectangle: \"))   #user input the values of length and breadth for finding area\n",
    "Area=x*y                                           #Area is evaluated using formula length * breadth\n",
    "print(\"The area of the rectangle is :\", Area)      #Final Area is printed"
   ]
  },
  {
   "cell_type": "code",
   "execution_count": 10,
   "id": "585b783d-db5a-442b-b57f-e9979a1ce353",
   "metadata": {},
   "outputs": [
    {
     "name": "stdin",
     "output_type": "stream",
     "text": [
      "Enter the temperature in Celcius:  38\n"
     ]
    },
    {
     "name": "stdout",
     "output_type": "stream",
     "text": [
      "38 In Celcius to F will turn out as: 100.4\n"
     ]
    }
   ],
   "source": [
    "#Write a Python program that converts temperatures from Celsius to Fahrenheit. Take the temperature in Celsius as input, store it in a variable,  convert it to Fahrenheit, and display the result.\n",
    "\n",
    "Temp_C=int(input(\"Enter the temperature in Celcius: \"))     #User input the Temperature in oC and it is Converted to Ferhenheit using the Formula Temp in oF=(9/5)*Temp in oC +32\n",
    "Temp_F=(9/5)*Temp_C+32\n",
    "print(Temp_C,\"In Celcius to F will turn out as:\", Temp_F)\n"
   ]
  },
  {
   "cell_type": "code",
   "execution_count": 13,
   "id": "ee3c92b1-3e56-4c51-8074-40f6b2e115e9",
   "metadata": {},
   "outputs": [
    {
     "name": "stdin",
     "output_type": "stream",
     "text": [
      "Enter the string:  GATE\n"
     ]
    },
    {
     "name": "stdout",
     "output_type": "stream",
     "text": [
      "Enter the no. of characters 4\n"
     ]
    }
   ],
   "source": [
    "#TOPIC STRINGS \n",
    "\n",
    "#Write a Python program that takes a string as input and prints the length of the string.\n",
    "st=input(\"Enter the string: \")                     #User input the string, Using Len() function we find the number of characters in the string\n",
    "print(\"Enter the no. of characters\",len(st))"
   ]
  },
  {
   "cell_type": "code",
   "execution_count": 18,
   "id": "07f94665-ec57-4480-8edb-a8361533dfd1",
   "metadata": {},
   "outputs": [
    {
     "name": "stdin",
     "output_type": "stream",
     "text": [
      "Enter the string:  aaee\n"
     ]
    },
    {
     "name": "stdout",
     "output_type": "stream",
     "text": [
      "2\n"
     ]
    }
   ],
   "source": [
    "#Question 2\n",
    "# Create a program that takes a sentence from the user and counts the number of vowels (a, e, i, o, u) in the string.\n",
    "\n",
    "st=input(\"Enter the string: \")      #User input the string and we want to check if any of these vowels are present or not\n",
    "l=['a','e','i','o','u']             #We make a list of all vowels ; in this code we look for number of distinct vowels present in the string\n",
    "count=0\n",
    "for ele in l:\n",
    "    if ele in st:\n",
    "        count=count+1\n",
    "\n",
    "print(count)\n",
    "        \n",
    "#This code will count number of distinct vowels// and max value count can have is 5 i.e len(l) or Total no of vowels \n",
    "\n",
    "#For counting total number of vowels We have the second code// Kindly refer that "
   ]
  },
  {
   "cell_type": "code",
   "execution_count": 24,
   "id": "beced193-97cb-407a-af83-49e275f21c35",
   "metadata": {},
   "outputs": [
    {
     "name": "stdin",
     "output_type": "stream",
     "text": [
      "Enter the string:  aaaeeeeoooo\n"
     ]
    },
    {
     "name": "stdout",
     "output_type": "stream",
     "text": [
      "11\n"
     ]
    }
   ],
   "source": [
    "#contd.\n",
    "#For counting total number of vowels \n",
    "st=input(\"Enter the string: \")       #User input the string and we want to check if any of these vowels are present or not\n",
    "l=['a','e','i','o','u']              #We make a list of all vowels ; \n",
    "t=list(st)                           #we convert the string input to a list; if st='apple' t=['a','p','p','l','e']\n",
    "count=0                              #Initialize the count value=0 if any letter in the st is an vowel count will increment by 1\n",
    "for ele in t:\n",
    "    if ele in l:\n",
    "        count=count+1\n",
    "print(count)                        #After comparing each element of string input we find the total count of vowels prent in the string"
   ]
  },
  {
   "cell_type": "code",
   "execution_count": 25,
   "id": "70cc1d6b-0e8a-4a2e-bcd5-057158260d09",
   "metadata": {},
   "outputs": [
    {
     "name": "stdin",
     "output_type": "stream",
     "text": [
      "Enter the string:  aaeeo\n"
     ]
    },
    {
     "name": "stdout",
     "output_type": "stream",
     "text": [
      "oeeaa\n"
     ]
    }
   ],
   "source": [
    "#Given a string, reverse the order of characters using string slicing and print the reversed string.\n",
    "\n",
    "st=input(\"Enter the string: \")         #User input the string\n",
    "m=st[::-1]                             #Reverse a string using slicing\n",
    "print(m)"
   ]
  },
  {
   "cell_type": "code",
   "execution_count": 28,
   "id": "b6672042-187b-4718-8c43-3ef0fd7aaae3",
   "metadata": {},
   "outputs": [
    {
     "name": "stdin",
     "output_type": "stream",
     "text": [
      "Enter the string:  AAEAA\n"
     ]
    },
    {
     "name": "stdout",
     "output_type": "stream",
     "text": [
      "It's a Palindrome\n"
     ]
    }
   ],
   "source": [
    "#Write a program that takes a string as input and checks if it is a palindrome (reads the same forwards and backwards).\n",
    "st=input(\"Enter the string: \")              #User input the string\n",
    "\n",
    "if st==st[::-1]:                            # we reverse the string and if the reversed string is same as input string then its a Palindrome else not a Palindrome\n",
    "    print(\"It's a Palindrome\")\n",
    "else:    \n",
    "    print(\"Not a Palindrome\")\n",
    "\n"
   ]
  },
  {
   "cell_type": "code",
   "execution_count": 34,
   "id": "3352688b-6bdf-4f2c-b901-7df63a26a6b3",
   "metadata": {},
   "outputs": [
    {
     "name": "stdin",
     "output_type": "stream",
     "text": [
      "Enter the string:   aa eeee \n"
     ]
    },
    {
     "name": "stdout",
     "output_type": "stream",
     "text": [
      "aaeeee\n"
     ]
    }
   ],
   "source": [
    "#Create a program that takes a string as input and removes all the spaces from it. Print the modified string without spaces.\n",
    "st=input(\"Enter the string: \")             #User input the string\n",
    "print(remove(st))                          #remove() function removes all the spaces from the string\n"
   ]
  },
  {
   "cell_type": "code",
   "execution_count": null,
   "id": "aba07c55-c242-4229-ba7e-0c4e02c9db21",
   "metadata": {},
   "outputs": [],
   "source": []
  }
 ],
 "metadata": {
  "kernelspec": {
   "display_name": "Python 3 (ipykernel)",
   "language": "python",
   "name": "python3"
  },
  "language_info": {
   "codemirror_mode": {
    "name": "ipython",
    "version": 3
   },
   "file_extension": ".py",
   "mimetype": "text/x-python",
   "name": "python",
   "nbconvert_exporter": "python",
   "pygments_lexer": "ipython3",
   "version": "3.10.8"
  }
 },
 "nbformat": 4,
 "nbformat_minor": 5
}
